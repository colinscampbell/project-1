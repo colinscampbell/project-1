{
 "cells": [
  {
   "cell_type": "code",
   "execution_count": null,
   "metadata": {},
   "outputs": [],
   "source": [
    "#this file should pull data down from the BTS API, load it into a dataframe, and export the dataframe as a CSV\n",
    "\n",
    "#filepath = data/bts_data.csv"
   ]
  }
 ],
 "metadata": {
  "language_info": {
   "name": "python"
  },
  "orig_nbformat": 4
 },
 "nbformat": 4,
 "nbformat_minor": 2
}
