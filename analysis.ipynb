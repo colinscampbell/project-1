{
 "cells": [
  {
   "cell_type": "code",
   "execution_count": null,
   "metadata": {},
   "outputs": [],
   "source": [
    "#this file should read the data from consolidated.csv\n",
    "\n",
    "#this should do all of the analysis"
   ]
  },
  {
   "cell_type": "markdown",
   "metadata": {},
   "source": [
    "MARKDOWN:\n",
    "General Note - Any Analysis that can be done for cases can be done for deaths, although cases might be easier because the data aren't lagged\n",
    "Timeframe - Jan 2019 - Today\n",
    "\"Pre COVID\" = Jan 2019 - Mar 2020\n",
    "\n",
    "**Question 1: How did COVID Change Overall Travel Patterns?**\n",
    "\n",
    "1) Plot 1: Scatter Plot (Points = States, X-Axis = Travel Volume, Y-Axis = Cases)\n",
    "\n",
    "2) Plot 2: Line Graph (X-Axis = Time, Y-Axis = Travel Volume, COVID Cases)\n",
    "\n",
    "**Question 2: Which States reacted most/least aggressively to COVID (largest change in travel patterns)**\n",
    "\n",
    "1) Plot 1: (Pick 2 states, e.g. CA, TX) - Time Series of COVID Cases and Travel Volume (Overlay 2019 and 2020)\n",
    "\n",
    "2) Plot 2: State Specific Bar Graph showing travel before / travel after (FL - 80% / 60% \"pop not stay at home\"), potentially all 50 states\n",
    "\n",
    "**Question 3: How did COVID change the nature / length of travel?**\n",
    "\n",
    "1) Plot 1: Time Series of Trip Type over Time (Nationally)\n",
    "\n",
    "2) Plot 2: Scatter Plot of Counties that Changed the Most\n",
    "\n",
    "**Question 4: Did Reducing Travel Reduce COVID**\n",
    "\n",
    "1) Plot 1: Bar graph (by state) PRE-COVID Trips vs. COVID Trips (timeframe TBD)\n",
    "\n",
    "2) Plot 2: TBD\n"
   ]
  }
 ],
 "metadata": {
  "language_info": {
   "name": "python"
  },
  "orig_nbformat": 4
 },
 "nbformat": 4,
 "nbformat_minor": 2
}
