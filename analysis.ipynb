{
 "cells": [
  {
   "cell_type": "code",
   "execution_count": null,
   "metadata": {},
   "outputs": [],
   "source": [
    "#this file should read the data from consolidated.csv\n",
    "\n",
    "#this should do all of the analysis"
   ]
  },
  {
   "cell_type": "markdown",
   "metadata": {},
   "source": [
    "MARKDOWN:\n",
    "General Note - Any Analysis that can be done for cases can be done for deaths, although cases might be easier because the data aren't lagged\n",
    "\n",
    "Question 1: How did COVID Change Overall Travel Patterns?\n",
    "\n",
    "Plot 1: Scatter Plot (Points = States, X-Axis = Travel Volume, Y-Axis = Cases)\n",
    "Plot 2: Line Graph (X-Axis = Time, Y-Axis = Travel Volume, COVID Cases)\n",
    "\n",
    "Question 2: Which States reacted most aggressively to COVID (largest change in travel patterns)\n",
    "\n",
    "\n",
    "\n",
    "Question 3:\n",
    "\n",
    "Question 4: \n",
    "\n",
    "Plot 1: Google Heatmap\n",
    "Plot 2: Google Heatmap\n"
   ]
  }
 ],
 "metadata": {
  "language_info": {
   "name": "python"
  },
  "orig_nbformat": 4
 },
 "nbformat": 4,
 "nbformat_minor": 2
}
