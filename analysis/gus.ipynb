{
 "cells": [
  {
   "cell_type": "markdown",
   "metadata": {},
   "source": [
    "**Description of Basic Responses to COVID In Terms of Travel Patterns (National, Extra Interesting Descriptive)**\n",
    "Owner: Etienne, Gus\n",
    "\n",
    "1) Plot 1: Scatter Plot (Points = States, X-Axis = Travel Volume, Y-Axis = Cases)\n",
    "\n",
    "2) Plot 2: Line Graph (X-Axis = Time, Y-Axis = Travel Volume, COVID Cases)"
   ]
  }
 ],
 "metadata": {
  "language_info": {
   "name": "python"
  },
  "orig_nbformat": 4
 },
 "nbformat": 4,
 "nbformat_minor": 2
}
