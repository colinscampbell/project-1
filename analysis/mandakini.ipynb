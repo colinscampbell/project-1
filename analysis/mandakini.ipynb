{
 "cells": [
  {
   "cell_type": "code",
   "execution_count": null,
   "metadata": {},
   "outputs": [],
   "source": []
  },
  {
   "cell_type": "markdown",
   "metadata": {},
   "source": [
    "**Which States reacted most/least aggressively to COVID (State Level)**\n",
    "Owner: Mandakini\n",
    "\n",
    "1) (Pick 2 states, e.g. CA, TX) - Time Series of COVID Cases and Travel Volume (Overlay 2019 and 2020)\n",
    "\n",
    "2) State Specific Bar Graph showing travel before / travel after (FL - 80% / 60% \"pop not stay at home\"), potentially all 50 states\n",
    "\n",
    "3) "
   ]
  }
 ],
 "metadata": {
  "language_info": {
   "name": "python"
  },
  "orig_nbformat": 4
 },
 "nbformat": 4,
 "nbformat_minor": 2
}
