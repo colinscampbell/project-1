{
 "cells": [
  {
   "cell_type": "markdown",
   "metadata": {},
   "source": [
    "**Final Hypothesis: Reducing Travel (i.e. staying at home) Reduced COVID**\n",
    "Owner: Colin, Prina\n",
    "\n",
    "(Prina) 1) Hypothesis 1: Reducing average trip length (more short trips, fewer long trips) reduced the subsequent COVID-19 Case Count\n",
    "- Regression\n",
    "\n",
    "(Colin) 2) Hypothesis 2: Staying at home (higher % staying at home) reduced the subsequent COVID-19 Case Count\n",
    "- Regression"
   ]
  },
  {
   "cell_type": "code",
   "execution_count": 48,
   "metadata": {},
   "outputs": [],
   "source": [
    "# Dependencies\n",
    "import pandas as pd\n",
    "import matplotlib.pyplot as plt\n",
    "import datetime\n",
    "import numpy as np\n",
    "from pathlib import Path\n",
    "import os"
   ]
  },
  {
   "cell_type": "code",
   "execution_count": 105,
   "metadata": {},
   "outputs": [],
   "source": [
    "#DATA READ IN\n",
    "path = \"../output_data/consolidated_new.csv\"\n",
    "consolidated = pd.read_csv(path)\n",
    "\n",
    "path = \"../output_data/national_covid.csv\"\n",
    "nation = pd.read_csv(path)"
   ]
  },
  {
   "cell_type": "code",
   "execution_count": 123,
   "metadata": {},
   "outputs": [],
   "source": [
    "#WEEKLY GROUPING\n",
    "df = consolidated\n",
    "df[\"Date\"] = df[\"Date\"].astype('datetime64[ns]')\n",
    "weekly_consolidated = df.groupby(\"state\").resample('W-Wed', label='right', closed = 'right', on='Date').sum().reset_index().sort_values(by='Date')"
   ]
  },
  {
   "cell_type": "code",
   "execution_count": 124,
   "metadata": {},
   "outputs": [],
   "source": [
    "#DATA CLEANUP, drop partial weeks\n",
    "weekly_consolidated = weekly_consolidated.drop(['tot_cases%',\"tot_death%\",\"Population Staying at Home%\",\"Population Not Staying at Home%\"],axis = 1,inplace=False)\n",
    "weekly_consolidated = weekly_consolidated[weekly_consolidated[\"Date\"] != \"2019-01-02\"]\n",
    "weekly_consolidated = weekly_consolidated[weekly_consolidated[\"Date\"] != \"2019-11-24\"]"
   ]
  },
  {
   "cell_type": "code",
   "execution_count": 125,
   "metadata": {},
   "outputs": [],
   "source": [
    "weekly_consolidated[\"%HOME\"] = weekly_consolidated[\"Population Staying at Home\"] / weekly_consolidated[\"total_population\"]\n",
    "weekly_consolidated[\"%AWAY\"] = weekly_consolidated[\"Population Not Staying at Home\"] / weekly_consolidated[\"total_population\"]\n",
    "weekly_consolidated[\"DEATHS\"] = weekly_consolidated[\"new_death\"] / weekly_consolidated[\"total_population\"] * 100000\n",
    "weekly_consolidated[\"CASES\"] = weekly_consolidated[\"new_death\"] / weekly_consolidated[\"total_population\"] * 100000"
   ]
  },
  {
   "cell_type": "code",
   "execution_count": 140,
   "metadata": {},
   "outputs": [],
   "source": [
    "pre_covid = weekly_consolidated[weekly_consolidated[\"Date\"] <= \"2020-03-04\"]\n",
    "post_covid = weekly_consolidated[weekly_consolidated[\"Date\"] > \"2020-03-04\"]"
   ]
  },
  {
   "cell_type": "code",
   "execution_count": 130,
   "metadata": {},
   "outputs": [
    {
     "data": {
      "text/plain": [
       "<matplotlib.collections.PathCollection at 0x240d9617a60>"
      ]
     },
     "execution_count": 130,
     "metadata": {},
     "output_type": "execute_result"
    },
    {
     "data": {
      "image/png": "[encoded data removed]",
      "text/plain": [
       "<Figure size 432x288 with 1 Axes>"
      ]
     },
     "metadata": {
      "needs_background": "light"
     },
     "output_type": "display_data"
    }
   ],
   "source": [
    "\n",
    "df = weekly_consolidated[weekly_consolidated[\"state\"] == \"CA\"]\n",
    "x = df[\"CASES\"]\n",
    "y = df[\"%HOME\"]\n",
    "plt.scatter(x,y)"
   ]
  },
  {
   "cell_type": "code",
   "execution_count": 136,
   "metadata": {},
   "outputs": [
    {
     "data": {
      "text/plain": [
       "(array([17897., 18017., 18140., 18262., 18383., 18506., 18628., 18748.,\n",
       "        18871., 18993.]),\n",
       " [Text(0, 0, ''),\n",
       "  Text(0, 0, ''),\n",
       "  Text(0, 0, ''),\n",
       "  Text(0, 0, ''),\n",
       "  Text(0, 0, ''),\n",
       "  Text(0, 0, ''),\n",
       "  Text(0, 0, ''),\n",
       "  Text(0, 0, ''),\n",
       "  Text(0, 0, ''),\n",
       "  Text(0, 0, '')])"
      ]
     },
     "execution_count": 136,
     "metadata": {},
     "output_type": "execute_result"
    },
    {
     "data": {
      "image/png": "[encoded data removed]",
      "text/plain": [
       "<Figure size 432x288 with 1 Axes>"
      ]
     },
     "metadata": {
      "needs_background": "light"
     },
     "output_type": "display_data"
    }
   ],
   "source": [
    "df = weekly_consolidated[weekly_consolidated[\"state\"] == \"CA\"]\n",
    "x = df[\"Date\"]\n",
    "y = df[\"CASES\"]\n",
    "plt.plot(x,y)\n",
    "plt.xticks(rotation='vertical')"
   ]
  },
  {
   "cell_type": "code",
   "execution_count": 142,
   "metadata": {},
   "outputs": [
    {
     "data": {
      "text/plain": [
       "7054   2020-03-11\n",
       "2038   2020-03-11\n",
       "6294   2020-03-11\n",
       "7206   2020-03-11\n",
       "1430   2020-03-11\n",
       "          ...    \n",
       "6079   2021-11-24\n",
       "1519   2021-11-24\n",
       "6231   2021-11-24\n",
       "3799   2021-11-24\n",
       "7751   2021-11-24\n",
       "Name: Date, Length: 4590, dtype: datetime64[ns]"
      ]
     },
     "execution_count": 142,
     "metadata": {},
     "output_type": "execute_result"
    }
   ],
   "source": [
    "post_covid[\"Date\"]"
   ]
  },
  {
   "cell_type": "code",
   "execution_count": null,
   "metadata": {},
   "outputs": [],
   "source": []
  }
 ],
 "metadata": {
  "interpreter": {
   "hash": "7c19f75c58f27f71661e07b8011b01fcc70f648a8eebfbb97779177ad9ca81a3"
  },
  "kernelspec": {
   "display_name": "Python 3.8.8 64-bit ('base': conda)",
   "language": "python",
   "name": "python3"
  },
  "language_info": {
   "codemirror_mode": {
    "name": "ipython",
    "version": 3
   },
   "file_extension": ".py",
   "mimetype": "text/x-python",
   "name": "python",
   "nbconvert_exporter": "python",
   "pygments_lexer": "ipython3",
   "version": "3.8.8"
  },
  "orig_nbformat": 4
 },
 "nbformat": 4,
 "nbformat_minor": 2
}
