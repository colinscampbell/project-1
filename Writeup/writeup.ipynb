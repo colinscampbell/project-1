{
 "cells": [
  {
   "cell_type": "markdown",
   "metadata": {},
   "source": [
    "Summary:\n",
    "We evaluated the impact of COVID-19 on Travel Patterns, as well as the impact of travel patterns on COVID-19, using two publicly available datasets\n",
    "    (1) The CDC COVID-19 dataset, which captures daily COVID cases and deaths at the state level\n",
    "    (2) The BTS Trips dataset, which captures state level data on the number of trips taken on a daily basis, by trip distance, as well as the population staying at home (no trips >1 mile)\n",
    "\n",
    "Key Question: How Did People react to COVID-19, in terms of travel patterns, and how was this reflected in subsequent infection and death rates?\n",
    "\n",
    "Hypothesis: Reducing travel after COVID-19, or not travelling much to begin with, had a statistically significant negative effect on COVID-19 infection rates.\n",
    "\n",
    "Additional Observations:\n",
    "    - Roughly 4% more of the population stayed at home on a given week after COVID, compared to pre-COVID levels of staying at home\n",
    "    - asdf\n",
    "    - asdf\n",
    "    - asdf\n",
    "    - asdf\n",
    "\n",
    "Conclusion:\n",
    "\n",
    "Limitations / Future Research:\n",
    "    (1) The CDC dataset only reports at the state level, which limits our ability to tie more granular trip data to state level infection and death rates\n",
    "    (2) The trips dataset doesn't provide any information about origin, destination, or duration of travel, which limits our ability to understand the manner in which type of travel impacted infection rates\n",
    "    (3) BLS definition of \"stayed at home\" is based on travel distance, which biases results for places dominated by high density urban area (e.g. DC, NY)"
   ]
  }
 ],
 "metadata": {
  "language_info": {
   "name": "python"
  },
  "orig_nbformat": 4
 },
 "nbformat": 4,
 "nbformat_minor": 2
}
