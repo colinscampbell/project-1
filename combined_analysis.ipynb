{
 "cells": [
  {
   "cell_type": "markdown",
   "metadata": {},
   "source": [
    "#SUMMARY - COVID IMPACT ON TRAVEL PATTERNS\n",
    "\n",
    "#COLIN - 2 regressions on COVID vs. TRAVEL\n",
    "\n",
    "#GUS - which states had the strongest reactions to COVID\n",
    "\n",
    "#MANDAKINI - intro stats\n",
    "\n",
    "#PRINA - no correlation between cases and trips\n",
    "\n",
    "#ETIENNE - summary stats"
   ]
  },
  {
   "cell_type": "code",
   "execution_count": null,
   "metadata": {},
   "outputs": [],
   "source": []
  }
 ],
 "metadata": {
  "language_info": {
   "name": "python"
  },
  "orig_nbformat": 4
 },
 "nbformat": 4,
 "nbformat_minor": 2
}
