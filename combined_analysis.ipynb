{
 "cells": [
  {
   "cell_type": "markdown",
   "metadata": {},
   "source": [
    "#SUMMARY - COVID IMPACT ON TRAVEL PATTERNS\n",
    "\n",
    "#COLIN - 2 regressions on COVID vs. TRAVEL\n",
    "\n",
    "#GUS - \n",
    "\n",
    "#MANDAKINI\n",
    "\n",
    "#PRINA\n",
    "\n",
    "#ETIENNE"
   ]
  },
  {
   "cell_type": "code",
   "execution_count": null,
   "metadata": {},
   "outputs": [],
   "source": []
  }
 ],
 "metadata": {
  "language_info": {
   "name": "python"
  },
  "orig_nbformat": 4
 },
 "nbformat": 4,
 "nbformat_minor": 2
}
